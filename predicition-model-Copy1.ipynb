{
 "cells": [
  {
   "cell_type": "code",
   "execution_count": 1,
   "id": "5e780a41-c782-443f-9f90-19fe8c8d9a2e",
   "metadata": {},
   "outputs": [
    {
     "name": "stdout",
     "output_type": "stream",
     "text": [
      "Requirement already satisfied: pymysql in /opt/anaconda3/lib/python3.12/site-packages (1.1.1)\n"
     ]
    }
   ],
   "source": [
    "!pip install pymysql"
   ]
  },
  {
   "cell_type": "code",
   "execution_count": 3,
   "id": "22d5bd37-017d-4011-aebd-d03ccd443074",
   "metadata": {},
   "outputs": [],
   "source": [
    "import pandas as pd\n",
    "import numpy as np\n",
    "from xgboost import XGBRegressor\n",
    "try:\n",
    "    from lightgbm import LGBMRegressor\n",
    "except ModuleNotFoundError:\n",
    "    import os\n",
    "    os.system('pip install lightgbm')\n",
    "    from lightgbm import LGBMRegressor\n",
    "try:\n",
    "    from catboost import CatBoostRegressor\n",
    "except ModuleNotFoundError:\n",
    "    import os\n",
    "    os.system('pip install catboost')\n",
    "    from catboost import CatBoostRegressor\n",
    "from sklearn.ensemble import RandomForestRegressor\n",
    "from sklearn.pipeline import Pipeline\n",
    "from sklearn.compose import ColumnTransformer\n",
    "from sklearn.preprocessing import OneHotEncoder, LabelEncoder, StandardScaler\n",
    "from sklearn.exceptions import NotFittedError\n",
    "from sklearn.impute import SimpleImputer\n",
    "from sklearn.metrics import mean_squared_error, r2_score\n",
    "from sklearn.model_selection import train_test_split, GridSearchCV\n",
    "from datetime import datetime\n",
    "from dateutil.relativedelta import relativedelta"
   ]
  },
  {
   "cell_type": "code",
   "execution_count": 5,
   "id": "f12f7b55-44f6-4d5f-b027-238a2bb5b84c",
   "metadata": {},
   "outputs": [
    {
     "name": "stdout",
     "output_type": "stream",
     "text": [
      "Requirement already satisfied: xgboost in /opt/anaconda3/lib/python3.12/site-packages (2.1.3)\n",
      "Requirement already satisfied: numpy in /opt/anaconda3/lib/python3.12/site-packages (from xgboost) (1.26.4)\n",
      "Requirement already satisfied: scipy in /opt/anaconda3/lib/python3.12/site-packages (from xgboost) (1.13.1)\n"
     ]
    }
   ],
   "source": [
    "!pip install xgboost"
   ]
  },
  {
   "cell_type": "code",
   "execution_count": 30,
   "id": "cbaa154d-2eb3-485d-9e3e-0c58fc5dcf75",
   "metadata": {},
   "outputs": [],
   "source": [
    "# MySQL connection details\n",
    "# username= 'root'\n",
    "# password= 'root%401234'\n",
    "# host = 'localhost'\n",
    "# port = '3306'\n",
    "# database = 'dev_days'\n",
    "\n",
    "# # Create SQLAlchemy engine\n",
    "# engine = create_engine(f'mysql+pymysql://{username}:{password}@{host}:{port}/{database}')"
   ]
  },
  {
   "cell_type": "code",
   "execution_count": 7,
   "id": "721ffc87-d32c-44d9-aa41-efe84712867d",
   "metadata": {},
   "outputs": [],
   "source": [
    "def sales_vs_stock():\n",
    "    df_sales = pd.read_csv('film&tv-sale.csv');\n",
    "    df_stockin = pd.read_csv('film&tv-stockin.csv');\n",
    "    \n",
    "    # Current date\n",
    "    current_date = datetime.now()\n",
    "    \n",
    "    # Start date of the same month one year ago\n",
    "    year_ago = (current_date - relativedelta(years=1)).replace(day=1)\n",
    "    \n",
    "    # Last date of the previous month in the current year\n",
    "    month_ago = (current_date.replace(day=1) - relativedelta(days=1))\n",
    "\n",
    "    # print(year_ago, month_ago)\n",
    "    \n",
    "    df_sales['OrderDt'] = pd.to_datetime(df_sales['OrderDt'])\n",
    "    df_sales_year_ago = df_sales[(df_sales['OrderDt'] >= year_ago) & (df_sales['OrderDt'] <= month_ago)].copy()\n",
    "    df_sales_year_ago['month'] = df_sales['OrderDt'].dt.strftime('%B-%Y')\n",
    "    \n",
    "    df_stockin['OrderDt'] = pd.to_datetime(df_stockin['OrderDt'])\n",
    "    df_stockin_year_ago = df_stockin[(df_stockin['OrderDt'] >= year_ago) & (df_stockin['OrderDt'] <= month_ago)].copy()\n",
    "    df_stockin_year_ago['month'] = df_stockin['OrderDt'].dt.strftime('%B-%Y')\n",
    "    \n",
    "    sales_result = df_sales_year_ago.groupby('month', as_index=False).agg({'Qty': 'sum'})\n",
    "    stockin_result = df_stockin_year_ago.groupby('month', as_index=False).agg({'Qty': 'sum'})\n",
    "    \n",
    "    sales_vs_stock = pd.DataFrame({\n",
    "        'MonthYear': pd.to_datetime(sales_result['month'], format='%B-%Y'),\n",
    "        'Sales': sales_result['Qty'],\n",
    "        'Stock': stockin_result['Qty'],\n",
    "    }).sort_values(by='MonthYear');\n",
    "\n",
    "    store_data('sales_vs_stock', sales_vs_stock)"
   ]
  },
  {
   "cell_type": "code",
   "execution_count": 9,
   "id": "82e622bd-9102-4edb-8370-48382cdb7168",
   "metadata": {},
   "outputs": [],
   "source": [
    "def box_stock():\n",
    "    raw_df = pd.read_csv('dev_day_data_11Nov.csv', sep=\"\\t\");\n",
    "    df = pd.DataFrame({\n",
    "        'StoreId': raw_df['BranchID'],\n",
    "        'ProductID': raw_df['Boxid'],\n",
    "        'QuantityOnHand': raw_df['QuantityOnHand']\n",
    "    })\n",
    "    \n",
    "    # Write DataFrame to MySQL table\n",
    "    store_data('box_stock', df)"
   ]
  },
  {
   "cell_type": "code",
   "execution_count": 11,
   "id": "0f73395f-5f1a-45c9-bb87-ced52a7d83da",
   "metadata": {},
   "outputs": [],
   "source": [
    "def map_box_to_category(df):\n",
    "    box_categories = pd.DataFrame({\n",
    "        'ProductID': df['ProductId'],\n",
    "        'Category': df['box_category']\n",
    "    }).drop_duplicates()\n",
    "    \n",
    "    store_data('box_categories', box_categories)"
   ]
  },
  {
   "cell_type": "code",
   "execution_count": 17,
   "id": "e584e561-0b91-4559-a199-a37cce2cc120",
   "metadata": {},
   "outputs": [],
   "source": [
    "df = pd.read_csv('film&tv-sale.csv').drop_duplicates()\n",
    "\n",
    "def feature_engineering(df):\n",
    "    df['OrderDt'] = pd.to_datetime(df['OrderDt'])\n",
    "    df['year'] = df['OrderDt'].dt.year\n",
    "    df['month'] = df['OrderDt'].dt.month\n",
    "    df['week'] = df['OrderDt'].dt.isocalendar().week\n",
    "    df['day'] = df['OrderDt'].dt.day\n",
    "    df['day_of_week'] = df['OrderDt'].dt.dayofweek\n",
    "    df['is_weekend'] = (df['day_of_week'] >= 5).astype(int)\n",
    "    df['is_black_friday'] = ((df['month'] == 11) & (df['day'] >= 24) & (df['day'] <= 30)).astype(int)\n",
    "    df['is_cyber_monday'] = ((df['month'] == 11) & (df['day'] == 27)).astype(int)\n",
    "    df['is_christmas_week'] = ((df['month'] == 12) & (df['day'] >= 21) | (df['month'] == 1) & (df['day'] <= 7)).astype(int)\n",
    "    \n",
    "    for lag in [7, 14, 30, 60, 90, 180]:\n",
    "        df[f'lag_{lag}_qty'] = df['Qty'].shift(lag)\n",
    "        df[f'rolling_{lag}_mean_qty'] = df['Qty'].rolling(window=lag, min_periods=1).mean()\n",
    "        df[f'ema_{lag}_qty'] = df['Qty'].ewm(span=lag, adjust=False).mean()\n",
    "    \n",
    "    df['sales_growth_7d'] = (df['Qty'] - df['lag_7_qty']) / df['lag_7_qty']\n",
    "    df['sales_growth_30d'] = (df['Qty'] - df['lag_30_qty']) / df['lag_30_qty']\n",
    "    df.fillna(0, inplace=True)\n",
    "    return df"
   ]
  },
  {
   "cell_type": "code",
   "execution_count": 3,
   "id": "08db3cb7-fae0-4cd9-a57f-046e47388de4",
   "metadata": {},
   "outputs": [
    {
     "ename": "SyntaxError",
     "evalue": "incomplete input (2424897636.py, line 1)",
     "output_type": "error",
     "traceback": [
      "\u001b[0;36m  Cell \u001b[0;32mIn[3], line 1\u001b[0;36m\u001b[0m\n\u001b[0;31m    def category_sales_stock():\u001b[0m\n\u001b[0m                               ^\u001b[0m\n\u001b[0;31mSyntaxError\u001b[0m\u001b[0;31m:\u001b[0m incomplete input\n"
     ]
    }
   ],
   "source": [
    "# def category_sales_stock():"
   ]
  },
  {
   "cell_type": "code",
   "execution_count": 21,
   "id": "ef30369b-0231-4a2c-a826-fcf57c2eba6c",
   "metadata": {},
   "outputs": [
    {
     "name": "stdout",
     "output_type": "stream",
     "text": [
      "['.DS_Store', 'predicition-model-Copy1.ipynb', 'film&tv-sale.csv', 'predicition-model.ipynb', '.ipynb_checkpoints', 'film&tv-sale_og.csv', 'film&tv-stockin.csv']\n"
     ]
    }
   ],
   "source": [
    "# def get_data(query):\n",
    "\n",
    "#     # Fetch data into a Pandas DataFrame\n",
    "#     df = pd.read_sql_query(query, engine)\n",
    "\n",
    "#     return df;\n",
    "import os\n",
    "print(os.listdir())  # Check if 'film&tv-sale.csv' exists\n"
   ]
  },
  {
   "cell_type": "code",
   "execution_count": null,
   "id": "9c332af4-4e8e-427e-8820-f8667aa36a4b",
   "metadata": {},
   "outputs": [],
   "source": [
    "# def store_data(table_name, df):\n",
    "#     # Write DataFrame to MySQL table\n",
    "#     df.to_sql(table_name, con=engine, if_exists='replace', index=False)\n",
    "\n",
    "#     print(f\"Data saved in table successfully in {table_name}..!!!\")"
   ]
  },
  {
   "cell_type": "code",
   "execution_count": 19,
   "id": "2679f96e-e7d3-438f-b780-b81b288b058a",
   "metadata": {},
   "outputs": [
    {
     "name": "stdout",
     "output_type": "stream",
     "text": [
      "Random Forest MSE: 1.922209363905619e-09, R² Score: 0.9999997632971049\n"
     ]
    }
   ],
   "source": [
    "df = feature_engineering(df)\n",
    "\n",
    "# Encode categorical features\n",
    "label_encoders = {}\n",
    "categorical_cols = ['storeid', 'ProductId', 'box_category']\n",
    "for col in categorical_cols:\n",
    "    le = LabelEncoder()\n",
    "    df[col] = le.fit_transform(df[col])\n",
    "    label_encoders[col] = le\n",
    "\n",
    "# Expand training data\n",
    "df = df[df['OrderDt'] >= '2021-01-01']\n",
    "\n",
    "# Train-test split\n",
    "test_start_date = '2023-11-24'\n",
    "test_end_date = '2023-11-30'\n",
    "test_data = df[(df['OrderDt'] >= test_start_date) & (df['OrderDt'] <= test_end_date)].copy()\n",
    "test_data['OrderDt'] = pd.to_datetime(test_data['OrderDt']) + pd.DateOffset(years=1)\n",
    "train_data = df.copy()\n",
    "\n",
    "features = [\n",
    "    'storeid', 'ProductId', 'year', 'month', 'week', 'day', 'day_of_week', 'is_weekend',\n",
    "    'is_black_friday', 'is_cyber_monday', 'is_christmas_week',\n",
    "    'lag_7_qty', 'lag_14_qty', 'lag_30_qty', 'lag_60_qty', 'lag_90_qty', 'lag_180_qty',\n",
    "    'rolling_7_mean_qty', 'rolling_14_mean_qty', 'rolling_30_mean_qty', 'rolling_60_mean_qty', 'rolling_90_mean_qty', 'rolling_180_mean_qty',\n",
    "    'ema_7_qty', 'ema_14_qty', 'ema_30_qty', 'ema_60_qty', 'ema_90_qty', 'ema_180_qty',\n",
    "    'sales_growth_7d', 'sales_growth_30d', 'box_category']\n",
    "\n",
    "X_train = train_data[features]\n",
    "y_train = train_data['Qty']\n",
    "X_test = test_data[features]\n",
    "y_test = test_data['Qty']\n",
    "\n",
    "# Train Random Forest model\n",
    "rf_model = RandomForestRegressor(n_estimators=500, max_depth=10, random_state=42)\n",
    "rf_model.fit(X_train, y_train)\n",
    "y_pred_rf = rf_model.predict(X_test)\n",
    "\n",
    "# Evaluate Model\n",
    "mse_rf = mean_squared_error(y_test, y_pred_rf)\n",
    "r2_rf = r2_score(y_test, y_pred_rf)\n",
    "\n",
    "print(f\"Random Forest MSE: {mse_rf}, R² Score: {r2_rf}\")\n"
   ]
  },
  {
   "cell_type": "code",
   "execution_count": null,
   "id": "60e284e4-5814-4ed1-94c2-f43f1d74f041",
   "metadata": {},
   "outputs": [],
   "source": []
  }
 ],
 "metadata": {
  "kernelspec": {
   "display_name": "Python [conda env:base] *",
   "language": "python",
   "name": "conda-base-py"
  },
  "language_info": {
   "codemirror_mode": {
    "name": "ipython",
    "version": 3
   },
   "file_extension": ".py",
   "mimetype": "text/x-python",
   "name": "python",
   "nbconvert_exporter": "python",
   "pygments_lexer": "ipython3",
   "version": "3.12.7"
  }
 },
 "nbformat": 4,
 "nbformat_minor": 5
}
